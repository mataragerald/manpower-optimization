{
 "cells": [
  {
   "cell_type": "markdown",
   "metadata": {},
   "source": [
    "# Manpower Optimisation Labs\n",
    "by Matara Gerald"
   ]
  },
  {
   "cell_type": "markdown",
   "metadata": {},
   "source": [
    "## Hungarian Assignment Algorithm\n",
    "\n",
    "The Hungarian Assignment Algorithm, also known as the Kuhn-Munkres algorithm, is a combinatorial optimization algorithm that solves the assignment problem in polynomial time. The assignment problem involves finding the optimal way to assign a set of workers to a set of tasks such that the total cost is minimized (or maximized, depending on the problem).\n",
    "\n",
    "### Key Features:\n",
    "- **Input**: A cost matrix where each element represents the cost of assigning a specific worker to a specific task.\n",
    "- **Output**: An optimal assignment of workers to tasks that minimizes the total cost.\n",
    "- **Applicability**: Works for both square (n x n) and rectangular (n x m) matrices. In rectangular cases, some workers or tasks may remain unassigned.\n",
    "\n",
    "### Steps of the Algorithm:\n",
    "1. Subtract the smallest value in each row from all elements of that row.\n",
    "2. Subtract the smallest value in each column from all elements of that column.\n",
    "3. Cover all zeros in the matrix using the minimum number of horizontal and vertical lines.\n",
    "4. If the number of lines equals the size of the matrix, an optimal assignment is found. Otherwise, adjust the matrix and repeat.\n",
    "\n",
    "### Advantages:\n",
    "- Efficient for solving large-scale assignment problems.\n",
    "- Guarantees an optimal solution.\n",
    "\n",
    "### Applications:\n",
    "- Task scheduling.\n",
    "- Resource allocation.\n",
    "- Matching problems in graph theory."
   ]
  },
  {
   "cell_type": "code",
   "execution_count": null,
   "metadata": {},
   "outputs": [],
   "source": [
    "import numpy as np\n",
    "from scipy.optimize import linear_sum_assignment\n",
    "import sys\n",
    "\n",
    "def solve_hungarian_assignment(cost_matrix):\n",
    "    \"\"\"\n",
    "    Solves the assignment problem (Hungarian Algorithm) to find the\n",
    "    minimum cost matching between workers and tasks.\n",
    "\n",
    "    Args:\n",
    "        cost_matrix (np.ndarray or list of lists): A 2D array where\n",
    "            cost_matrix[i, j] is the cost of assigning worker i to task j.\n",
    "            - If square (n x n): Finds the perfect matching minimizing cost.\n",
    "            - If rectangular (n x m): Finds the best assignment of min(n, m)\n",
    "              pairs. If n > m (more workers), some workers are unassigned.\n",
    "              If m > n (more tasks), some tasks are unassigned.\n",
    "\n",
    "    Returns:\n",
    "        tuple: A tuple containing:\n",
    "            - list: A list of tuples representing the optimal assignments,\n",
    "                    e.g., [(worker_index, task_index), ...].\n",
    "            - float: The total minimum cost of the optimal assignment.\n",
    "            - list: Indices of workers included in the assignment.\n",
    "            - list: Indices of tasks included in the assignment.\n",
    "\n",
    "    Raises:\n",
    "        ValueError: If the cost matrix is not valid (e.g., not 2D).\n",
    "    \"\"\"\n",
    "    cost_matrix = np.asarray(cost_matrix) # Ensure it's a NumPy array\n",
    "\n",
    "    if cost_matrix.ndim != 2:\n",
    "        raise ValueError(\"Cost matrix must be 2-dimensional.\")\n",
    "\n",
    "    if cost_matrix.size == 0:\n",
    "        print(\"Warning: Empty cost matrix provided.\")\n",
    "        return [], 0.0, [], []\n",
    "\n",
    "    num_workers, num_tasks = cost_matrix.shape\n",
    "    print(f\"Input Cost Matrix ({num_workers} workers x {num_tasks} tasks):\\n{cost_matrix}\\n\")\n",
    "\n",
    "    # Use scipy's linear_sum_assignment which implements the Hungarian algorithm\n",
    "    # It returns optimal row indices and corresponding column indices.\n",
    "    try:\n",
    "        row_ind, col_ind = linear_sum_assignment(cost_matrix)\n",
    "    except ValueError as e:\n",
    "        # Catch potential issues like non-finite values if not handled prior\n",
    "        print(f\"Error during assignment: {e}\", file=sys.stderr)\n",
    "        print(\"Ensure cost matrix contains only finite numbers.\", file=sys.stderr)\n",
    "        raise # Re-raise the error after printing info\n",
    "\n",
    "\n",
    "    # Extract the assignments and calculate the total cost\n",
    "    assignments = list(zip(row_ind, col_ind))\n",
    "    total_cost = cost_matrix[row_ind, col_ind].sum()\n",
    "\n",
    "    print(\"Optimal Assignments (Worker Index -> Task Index):\")\n",
    "    assigned_workers = set()\n",
    "    assigned_tasks = set()\n",
    "    for r, c in assignments:\n",
    "        print(f\"  Worker {r} -> Task {c} (Cost: {cost_matrix[r, c]})\")\n",
    "        assigned_workers.add(r)\n",
    "        assigned_tasks.add(c)\n",
    "\n",
    "    print(f\"\\nTotal Minimum Cost: {total_cost}\")\n",
    "\n",
    "    # Identify unassigned if rectangular\n",
    "    if num_workers > num_tasks:\n",
    "        unassigned_workers = set(range(num_workers)) - assigned_workers\n",
    "        if unassigned_workers:\n",
    "            print(f\"Unassigned Workers: {sorted(list(unassigned_workers))}\")\n",
    "    elif num_tasks > num_workers:\n",
    "        unassigned_tasks = set(range(num_tasks)) - assigned_tasks\n",
    "        if unassigned_tasks:\n",
    "            print(f\"Unassigned Tasks: {sorted(list(unassigned_tasks))}\")\n",
    "\n",
    "    return assignments, total_cost, sorted(list(assigned_workers)), sorted(list(assigned_tasks))"
   ]
  },
  {
   "cell_type": "markdown",
   "metadata": {},
   "source": [
    "### Example Usage: Minimization (Square Matrix)"
   ]
  },
  {
   "cell_type": "code",
   "execution_count": null,
   "metadata": {},
   "outputs": [
    {
     "name": "stdout",
     "output_type": "stream",
     "text": [
      "Input Cost Matrix (3 workers x 3 tasks):\n",
      "[[ 90  76  75]\n",
      " [ 35  85  55]\n",
      " [125  95  90]]\n",
      "\n",
      "Optimal Assignments (Worker Index -> Task Index):\n",
      "  Worker 0 -> Task 1 (Cost: 76)\n",
      "  Worker 1 -> Task 0 (Cost: 35)\n",
      "  Worker 2 -> Task 2 (Cost: 90)\n",
      "\n",
      "Total Minimum Cost: 201\n"
     ]
    }
   ],
   "source": [
    "cost_matrix_min = np.array([\n",
    "    [90, 76, 75],\n",
    "    [35, 85, 55],\n",
    "    [125, 95, 90]\n",
    "])\n",
    "assignments_min, cost_min, _, _ = solve_hungarian_assignment(cost_matrix_min)\n"
   ]
  },
  {
   "cell_type": "markdown",
   "metadata": {},
   "source": [
    "### Example Usage: Rectangular Matrix (More Workers than Tasks)"
   ]
  },
  {
   "cell_type": "code",
   "execution_count": null,
   "metadata": {},
   "outputs": [
    {
     "name": "stdout",
     "output_type": "stream",
     "text": [
      "Input Cost Matrix (3 workers x 2 tasks):\n",
      "[[ 90  76]\n",
      " [ 35  85]\n",
      " [125  95]]\n",
      "\n",
      "Optimal Assignments (Worker Index -> Task Index):\n",
      "  Worker 0 -> Task 1 (Cost: 76)\n",
      "  Worker 1 -> Task 0 (Cost: 35)\n",
      "\n",
      "Total Minimum Cost: 111\n",
      "Unassigned Workers: [2]\n"
     ]
    }
   ],
   "source": [
    "cost_matrix_rect = np.array([\n",
    "    [90, 76],\n",
    "    [35, 85],\n",
    "    [125, 95]\n",
    "])\n",
    "\n",
    "assignments_rect, cost_rect, assigned_w, assigned_t = solve_hungarian_assignment(cost_matrix_rect)"
   ]
  }
 ],
 "metadata": {
  "kernelspec": {
   "display_name": ".venv",
   "language": "python",
   "name": "python3"
  },
  "language_info": {
   "codemirror_mode": {
    "name": "ipython",
    "version": 3
   },
   "file_extension": ".py",
   "mimetype": "text/x-python",
   "name": "python",
   "nbconvert_exporter": "python",
   "pygments_lexer": "ipython3",
   "version": "3.8.10"
  }
 },
 "nbformat": 4,
 "nbformat_minor": 2
}
